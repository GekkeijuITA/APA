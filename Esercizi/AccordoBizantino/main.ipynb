{
 "cells": [
  {
   "cell_type": "code",
   "execution_count": null,
   "metadata": {},
   "outputs": [],
   "source": [
    "import random\n",
    "import matplotlib.pyplot as plt\n",
    "from tqdm import tqdm"
   ]
  },
  {
   "cell_type": "code",
   "execution_count": null,
   "metadata": {},
   "outputs": [],
   "source": [
    "R=2**10\n",
    "n=4\n",
    "f=1\n",
    "T=(2*f)+1\n",
    "roundSucc = [0 for _ in range(10)]"
   ]
  },
  {
   "cell_type": "code",
   "execution_count": null,
   "metadata": {},
   "outputs": [],
   "source": [
    "def printMatrix(matrix):\n",
    "  for row in matrix:\n",
    "    print(row)"
   ]
  },
  {
   "cell_type": "code",
   "execution_count": null,
   "metadata": {},
   "outputs": [],
   "source": [
    "bitSndRcv = [[0 for _ in range(n)] for _ in range(n)]\n",
    "for i in range(0, n):\n",
    "    for j in range(0, n):\n",
    "        if i == 3:\n",
    "            bit = 1 - bitSndRcv[j][i]\n",
    "        else:\n",
    "            bit = random.randint(0, 1)\n",
    "        bitSndRcv[i][j]=bit\n",
    "\n",
    "printMatrix(bitSndRcv)"
   ]
  },
  {
   "cell_type": "code",
   "execution_count": null,
   "metadata": {},
   "outputs": [],
   "source": [
    "def tally(j, maj, matrix):\n",
    "    eq = 0\n",
    "    for i in range(0, n):\n",
    "        if matrix[j][i] == maj:\n",
    "            eq += 1\n",
    "    return eq"
   ]
  },
  {
   "cell_type": "code",
   "execution_count": null,
   "metadata": {},
   "outputs": [],
   "source": [
    "def maj(j, matrix):\n",
    "    max = [0,0]\n",
    "    for i in range(0, n):\n",
    "        if matrix[j][i] == 0:\n",
    "          max[0]+=1\n",
    "        else:\n",
    "          max[1]+=1\n",
    "    return 0 if max[0] > max[1] else 1"
   ]
  },
  {
   "cell_type": "code",
   "execution_count": null,
   "metadata": {},
   "outputs": [],
   "source": [
    "def coin():\n",
    "    return random.randint(0, 1)"
   ]
  },
  {
   "cell_type": "code",
   "execution_count": null,
   "metadata": {},
   "outputs": [],
   "source": [
    "def MCByzantineGeneral(matrix):\n",
    "    matrix_copy = [row[:] for row in matrix]\n",
    "    for r in range(10):\n",
    "      coinFlip = coin()\n",
    "\n",
    "      for j in range(n):\n",
    "        for i in range(n):\n",
    "          if i != j:\n",
    "            matrix_copy[i][j] = matrix_copy[j][j]\n",
    "\n",
    "      for j in range(n):\n",
    "        for i in range(n):\n",
    "          if i != j:\n",
    "            matrix_copy[j][i] = matrix_copy[i][j]\n",
    "\n",
    "      success = False\n",
    "      for j in range(n):\n",
    "          for i in range(n):\n",
    "              majVar = maj(j, matrix_copy)\n",
    "              if tally(j, majVar, matrix_copy) >= T:\n",
    "                  matrix_copy[i][j] = majVar\n",
    "                  if majVar == coinFlip:\n",
    "                    success = True\n",
    "                  break\n",
    "              else:\n",
    "                  matrix_copy[i][j] = coinFlip\n",
    "\n",
    "      if success:\n",
    "          roundSucc[r] += 1\n",
    "          return"
   ]
  },
  {
   "cell_type": "code",
   "execution_count": null,
   "metadata": {},
   "outputs": [],
   "source": [
    "roundSucc = [0 for _ in range(10)]\n",
    "for i in tqdm(range(0, R)): # Run\n",
    "    MCByzantineGeneral(bitSndRcv)"
   ]
  },
  {
   "cell_type": "code",
   "execution_count": null,
   "metadata": {},
   "outputs": [],
   "source": [
    "print(roundSucc)"
   ]
  },
  {
   "cell_type": "code",
   "execution_count": null,
   "metadata": {},
   "outputs": [],
   "source": [
    "plt.bar(list(range(1,len(roundSucc)+1)), roundSucc)\n",
    "plt.xlabel(\"Numero di round\")\n",
    "plt.ylabel(\"Numero di run\")\n",
    "plt.show()"
   ]
  }
 ],
 "metadata": {
  "kernelspec": {
   "display_name": "accordobizantino",
   "language": "python",
   "name": "python3"
  },
  "language_info": {
   "name": "python",
   "version": "3.12.4"
  }
 },
 "nbformat": 4,
 "nbformat_minor": 2
}
