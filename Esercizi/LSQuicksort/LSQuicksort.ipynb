{
 "cells": [
  {
   "cell_type": "code",
   "execution_count": null,
   "metadata": {},
   "outputs": [],
   "source": [
    "import random\n",
    "import numpy as np\n",
    "from tqdm import tqdm\n",
    "import matplotlib.pyplot as plt"
   ]
  },
  {
   "cell_type": "code",
   "execution_count": null,
   "metadata": {},
   "outputs": [],
   "source": [
    "X = 0"
   ]
  },
  {
   "cell_type": "code",
   "execution_count": null,
   "metadata": {},
   "outputs": [],
   "source": [
    "def confronta(s, pos, Sequence):\n",
    "  global X\n",
    "  sequenceMin = []\n",
    "  sequenceMax = []\n",
    "  for i in range(len(Sequence)):\n",
    "    if(i != pos):\n",
    "      if Sequence[i] < s:\n",
    "        sequenceMin.append(Sequence[i])\n",
    "        X += 1\n",
    "      else:\n",
    "        sequenceMax.append(Sequence[i])\n",
    "        X += 1\n",
    "  return [sequenceMin, sequenceMax]"
   ]
  },
  {
   "cell_type": "code",
   "execution_count": null,
   "metadata": {},
   "outputs": [],
   "source": [
    "def LVQuickSort(Sequence):\n",
    "  if(len(Sequence) <= 1): return Sequence\n",
    "  pos = random.randint(0, len(Sequence)-1)\n",
    "  s = Sequence[pos]\n",
    "  confronto = confronta(s, pos, Sequence)\n",
    "  sequenceMin = LVQuickSort(confronto[0])\n",
    "  sequenceMax = LVQuickSort(confronto[1])\n",
    "\n",
    "  # necessario per avere in output un array senza troncamenti\n",
    "  sorted_sequence = sequenceMin\n",
    "  sorted_sequence.extend([s]) # la funzione extend concatena\n",
    "  sorted_sequence.extend(sequenceMax)\n",
    "\n",
    "  return sorted_sequence"
   ]
  },
  {
   "cell_type": "code",
   "execution_count": null,
   "metadata": {},
   "outputs": [],
   "source": [
    "def random_array(n):\n",
    "  arr = []\n",
    "  for i in range(n):\n",
    "    arr.append(random.randint(0, n))  \n",
    "  return arr"
   ]
  },
  {
   "cell_type": "code",
   "execution_count": null,
   "metadata": {},
   "outputs": [],
   "source": [
    "n = 10**4\n",
    "R = 10**5\n",
    "Xr = []"
   ]
  },
  {
   "cell_type": "code",
   "execution_count": null,
   "metadata": {},
   "outputs": [],
   "source": [
    "for i in tqdm(range(R)):\n",
    "  array = random_array(n)\n",
    "  X = 0\n",
    "  LVQuickSort(array)\n",
    "  Xr.append(X)\n"
   ]
  },
  {
   "cell_type": "code",
   "execution_count": null,
   "metadata": {},
   "outputs": [],
   "source": [
    "print(Xr)"
   ]
  },
  {
   "cell_type": "code",
   "execution_count": null,
   "metadata": {},
   "outputs": [],
   "source": [
    "def valore_medio(R,Xr):\n",
    "  sommatoria = sum(Xr)\n",
    "  return (1/R) * sommatoria"
   ]
  },
  {
   "cell_type": "code",
   "execution_count": null,
   "metadata": {},
   "outputs": [],
   "source": [
    "def deviazione_standard(R,Xr,u):\n",
    "  sommatoria = 0\n",
    "  for i in Xr:\n",
    "    sommatoria += ((i-u)**2)\n",
    "  return (1/(R-1)) * sommatoria"
   ]
  },
  {
   "cell_type": "code",
   "execution_count": null,
   "metadata": {},
   "outputs": [],
   "source": [
    "val_medio = valore_medio(R,Xr)\n",
    "dev_standard = deviazione_standard(R,Xr,val_medio)"
   ]
  },
  {
   "cell_type": "code",
   "execution_count": null,
   "metadata": {},
   "outputs": [],
   "source": [
    "print(\"Valore medio: \" + str(val_medio))\n",
    "print(\"Deviazione standard: \" + str(dev_standard))"
   ]
  },
  {
   "cell_type": "code",
   "execution_count": null,
   "metadata": {},
   "outputs": [],
   "source": [
    "plt.hist(Xr, edgecolor=\"black\", bins=50)\n",
    "plt.show()"
   ]
  }
 ],
 "metadata": {
  "language_info": {
   "name": "python"
  }
 },
 "nbformat": 4,
 "nbformat_minor": 2
}
