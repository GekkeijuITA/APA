{
 "cells": [
  {
   "cell_type": "code",
   "execution_count": 9,
   "metadata": {},
   "outputs": [],
   "source": [
    "import random\n",
    "from tqdm import tqdm\n",
    "import matplotlib.pyplot as plt\n",
    "import math"
   ]
  },
  {
   "cell_type": "code",
   "execution_count": 8,
   "metadata": {},
   "outputs": [],
   "source": [
    "X = 0"
   ]
  },
  {
   "cell_type": "code",
   "execution_count": 7,
   "metadata": {},
   "outputs": [],
   "source": [
    "def confronta(s, pos, Sequence):\n",
    "  global X\n",
    "  sequenceMin = []\n",
    "  sequenceMax = []\n",
    "  for i in range(len(Sequence)):\n",
    "    if(i != pos):\n",
    "      if Sequence[i] < s:\n",
    "        sequenceMin.append(Sequence[i])\n",
    "        X += 1\n",
    "      else:\n",
    "        sequenceMax.append(Sequence[i])\n",
    "        X += 1\n",
    "  return [sequenceMin, sequenceMax]"
   ]
  },
  {
   "cell_type": "code",
   "execution_count": 6,
   "metadata": {},
   "outputs": [],
   "source": [
    "def LVQuickSort(Sequence):\n",
    "  if(len(Sequence) <= 1): return Sequence\n",
    "  pos = random.randint(0, len(Sequence)-1)\n",
    "  s = Sequence[pos]\n",
    "  confronto = confronta(s, pos, Sequence)\n",
    "  sequenceMin = LVQuickSort(confronto[0])\n",
    "  sequenceMax = LVQuickSort(confronto[1])\n",
    "\n",
    "  # necessario per avere in output un array senza troncamenti\n",
    "  sorted_sequence = sequenceMin\n",
    "  sorted_sequence.extend([s]) # la funzione extend concatena\n",
    "  sorted_sequence.extend(sequenceMax)\n",
    "\n",
    "  return sorted_sequence"
   ]
  },
  {
   "cell_type": "code",
   "execution_count": 5,
   "metadata": {},
   "outputs": [],
   "source": [
    "def random_array(n):\n",
    "  arr = []\n",
    "  for i in range(n):\n",
    "    arr.append(random.randint(0, n))  \n",
    "  return arr"
   ]
  },
  {
   "cell_type": "code",
   "execution_count": 26,
   "metadata": {},
   "outputs": [],
   "source": [
    "n = 10**4\n",
    "R = 10**5\n",
    "Xr = []"
   ]
  },
  {
   "cell_type": "code",
   "execution_count": 28,
   "metadata": {},
   "outputs": [
    {
     "name": "stderr",
     "output_type": "stream",
     "text": [
      " 71%|███████   | 70869/100000 [24:39<10:07, 47.95it/s]"
     ]
    }
   ],
   "source": [
    "for i in tqdm(range(R)):\n",
    "  array = random_array(n)\n",
    "  X = 0\n",
    "  LVQuickSort(array)\n",
    "  Xr.append(X)\n"
   ]
  },
  {
   "cell_type": "code",
   "execution_count": 16,
   "metadata": {},
   "outputs": [
    {
     "name": "stdout",
     "output_type": "stream",
     "text": [
      "[155099, 169298, 148343, 159857, 176716, 153109, 163113, 162560, 157643, 152671, 158856, 158122, 154296, 157282, 150292, 153245, 145932, 152059, 150955, 164286, 154054, 155760, 160469, 168911, 159316, 155414, 159290, 165884, 143705, 152313, 157522, 162373, 154782, 168715, 149539, 155864, 161465, 166628, 150567, 155690, 156521, 148613, 152611, 149336, 153051, 156073, 168225, 148119, 146809, 163001, 164270, 151254, 172680, 162636, 148109, 146649, 160067, 150152, 150812, 152408, 146213, 150928, 152520, 162606, 150784, 159754, 167149, 155550, 147888, 148860, 150607, 153242, 151209, 157521, 173372, 156132, 163783, 151881, 158779, 155175, 147010, 165565, 150047, 162549, 158753, 155145, 153672, 180580, 162644, 147524, 150317, 153489, 149959, 161140, 161918, 153366, 155303, 156043, 157187, 153583]\n"
     ]
    }
   ],
   "source": [
    "print(Xr)"
   ]
  },
  {
   "cell_type": "code",
   "execution_count": 17,
   "metadata": {},
   "outputs": [],
   "source": [
    "def valore_medio(R,Xr):\n",
    "  sommatoria = sum(Xr)\n",
    "  return (1/R) * sommatoria"
   ]
  },
  {
   "cell_type": "code",
   "execution_count": 18,
   "metadata": {},
   "outputs": [],
   "source": [
    "def deviazione_standard(R,Xr,u):\n",
    "  sommatoria = 0\n",
    "  for i in Xr:\n",
    "    sommatoria += ((i-u)**2)\n",
    "  return (1/(R-1)) * sommatoria"
   ]
  },
  {
   "cell_type": "code",
   "execution_count": 19,
   "metadata": {},
   "outputs": [],
   "source": [
    "val_medio = valore_medio(R,Xr)\n",
    "dev_standard = deviazione_standard(R,Xr,val_medio)"
   ]
  },
  {
   "cell_type": "code",
   "execution_count": 22,
   "metadata": {},
   "outputs": [
    {
     "name": "stdout",
     "output_type": "stream",
     "text": [
      "0\n"
     ]
    }
   ],
   "source": [
    "k = 0\n",
    "for x in Xr:\n",
    "    if x >= 2*val_medio and x < 3*val_medio:\n",
    "        k += 1\n",
    "print(k)"
   ]
  },
  {
   "cell_type": "code",
   "execution_count": 24,
   "metadata": {},
   "outputs": [
    {
     "name": "stdout",
     "output_type": "stream",
     "text": [
      "Frequenza empirica di X:  0.0\n"
     ]
    }
   ],
   "source": [
    "print(\"Frequenza empirica di X: \", k/R)"
   ]
  },
  {
   "cell_type": "code",
   "execution_count": 23,
   "metadata": {},
   "outputs": [
    {
     "name": "stdout",
     "output_type": "stream",
     "text": [
      "0\n"
     ]
    }
   ],
   "source": [
    "k = 0\n",
    "for x in Xr:\n",
    "    if x >= 3*val_medio:\n",
    "        k += 1\n",
    "print(k)"
   ]
  },
  {
   "cell_type": "code",
   "execution_count": 25,
   "metadata": {},
   "outputs": [
    {
     "name": "stdout",
     "output_type": "stream",
     "text": [
      "Frequenza empirica di X:  0.0\n"
     ]
    }
   ],
   "source": [
    "print(\"Frequenza empirica di X: \", k/R)"
   ]
  },
  {
   "cell_type": "code",
   "execution_count": 21,
   "metadata": {},
   "outputs": [
    {
     "name": "stdout",
     "output_type": "stream",
     "text": [
      "Valore medio: 156531.38\n",
      "Varianza: 51463204.21777777\n",
      "Deviazione standard: 7173.785905487964\n"
     ]
    }
   ],
   "source": [
    "print(\"Valore medio: \" + str(val_medio))\n",
    "print(\"Varianza: \" + str(dev_standard))\n",
    "print(\"Deviazione standard: \" + str(math.sqrt(dev_standard)))"
   ]
  },
  {
   "cell_type": "code",
   "execution_count": null,
   "metadata": {},
   "outputs": [
    {
     "data": {
      "image/png": "[encoded data removed]",
      "text/plain": [
       "<Figure size 640x480 with 1 Axes>"
      ]
     },
     "metadata": {},
     "output_type": "display_data"
    }
   ],
   "source": [
    "plt.hist(Xr, edgecolor=\"black\", bins=50)\n",
    "plt.xlabel(\"Numero di confronti\")\n",
    "plt.ylabel(\"Frequenza\")\n",
    "plt.show()"
   ]
  },
  {
   "cell_type": "code",
   "execution_count": null,
   "metadata": {},
   "outputs": [],
   "source": [
    "v1 = 2\n",
    "v2 = 3"
   ]
  },
  {
   "cell_type": "code",
   "execution_count": null,
   "metadata": {},
   "outputs": [],
   "source": [
    "def markov(mu, val):\n",
    "  return mu/(val*mu)"
   ]
  },
  {
   "cell_type": "code",
   "execution_count": null,
   "metadata": {},
   "outputs": [
    {
     "name": "stdout",
     "output_type": "stream",
     "text": [
      "0.5\n",
      "0.3333333333333333\n"
     ]
    }
   ],
   "source": [
    "print(markov(val_medio, v1))\n",
    "print(markov(val_medio, v2))"
   ]
  },
  {
   "cell_type": "code",
   "execution_count": null,
   "metadata": {},
   "outputs": [],
   "source": [
    "def chebyshev(mu, val, dev):\n",
    "    return dev / (((val-1)**2)*(mu**2))"
   ]
  },
  {
   "cell_type": "code",
   "execution_count": null,
   "metadata": {},
   "outputs": [
    {
     "name": "stdout",
     "output_type": "stream",
     "text": [
      "0.039854077211853085\n",
      "0.009963519302963271\n"
     ]
    }
   ],
   "source": [
    "print(chebyshev(val_medio, v1, dev_standard))\n",
    "print(chebyshev(val_medio, v2, dev_standard))"
   ]
  }
 ],
 "metadata": {
  "kernelspec": {
   "display_name": "LSQuicksort",
   "language": "python",
   "name": "python3"
  },
  "language_info": {
   "codemirror_mode": {
    "name": "ipython",
    "version": 3
   },
   "file_extension": ".py",
   "mimetype": "text/x-python",
   "name": "python",
   "nbconvert_exporter": "python",
   "pygments_lexer": "ipython3",
   "version": "3.11.9"
  }
 },
 "nbformat": 4,
 "nbformat_minor": 2
}
